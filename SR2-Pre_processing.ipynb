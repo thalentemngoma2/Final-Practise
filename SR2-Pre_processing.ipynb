{
 "cells": [
  {
   "cell_type": "code",
   "execution_count": 11,
   "id": "11f9d648-7749-4b41-bf4d-6efa9b81e854",
   "metadata": {},
   "outputs": [
    {
     "data": {
      "text/html": [
       "<div>\n",
       "<style scoped>\n",
       "    .dataframe tbody tr th:only-of-type {\n",
       "        vertical-align: middle;\n",
       "    }\n",
       "\n",
       "    .dataframe tbody tr th {\n",
       "        vertical-align: top;\n",
       "    }\n",
       "\n",
       "    .dataframe thead th {\n",
       "        text-align: right;\n",
       "    }\n",
       "</style>\n",
       "<table border=\"1\" class=\"dataframe\">\n",
       "  <thead>\n",
       "    <tr style=\"text-align: right;\">\n",
       "      <th></th>\n",
       "      <th>country</th>\n",
       "      <th>Code country</th>\n",
       "      <th>Year</th>\n",
       "      <th>Urban population</th>\n",
       "      <th>Rural population</th>\n",
       "    </tr>\n",
       "  </thead>\n",
       "  <tbody>\n",
       "    <tr>\n",
       "      <th>0</th>\n",
       "      <td>Afghanistan</td>\n",
       "      <td>AFG</td>\n",
       "      <td>1960</td>\n",
       "      <td>724373</td>\n",
       "      <td>7898093</td>\n",
       "    </tr>\n",
       "    <tr>\n",
       "      <th>1</th>\n",
       "      <td>Afghanistan</td>\n",
       "      <td>AFG</td>\n",
       "      <td>1961</td>\n",
       "      <td>763336</td>\n",
       "      <td>8026804</td>\n",
       "    </tr>\n",
       "    <tr>\n",
       "      <th>2</th>\n",
       "      <td>Afghanistan</td>\n",
       "      <td>AFG</td>\n",
       "      <td>1962</td>\n",
       "      <td>805062</td>\n",
       "      <td>8163985</td>\n",
       "    </tr>\n",
       "    <tr>\n",
       "      <th>3</th>\n",
       "      <td>Afghanistan</td>\n",
       "      <td>AFG</td>\n",
       "      <td>1963</td>\n",
       "      <td>849446</td>\n",
       "      <td>8308019</td>\n",
       "    </tr>\n",
       "    <tr>\n",
       "      <th>4</th>\n",
       "      <td>Afghanistan</td>\n",
       "      <td>AFG</td>\n",
       "      <td>1964</td>\n",
       "      <td>896820</td>\n",
       "      <td>8458694</td>\n",
       "    </tr>\n",
       "    <tr>\n",
       "      <th>...</th>\n",
       "      <td>...</td>\n",
       "      <td>...</td>\n",
       "      <td>...</td>\n",
       "      <td>...</td>\n",
       "      <td>...</td>\n",
       "    </tr>\n",
       "    <tr>\n",
       "      <th>14163</th>\n",
       "      <td>Zimbabwe</td>\n",
       "      <td>ZWE</td>\n",
       "      <td>2017</td>\n",
       "      <td>4755312</td>\n",
       "      <td>9995789</td>\n",
       "    </tr>\n",
       "    <tr>\n",
       "      <th>14164</th>\n",
       "      <td>Zimbabwe</td>\n",
       "      <td>ZWE</td>\n",
       "      <td>2018</td>\n",
       "      <td>4848158</td>\n",
       "      <td>10204026</td>\n",
       "    </tr>\n",
       "    <tr>\n",
       "      <th>14165</th>\n",
       "      <td>Zimbabwe</td>\n",
       "      <td>ZWE</td>\n",
       "      <td>2019</td>\n",
       "      <td>4945719</td>\n",
       "      <td>10408889</td>\n",
       "    </tr>\n",
       "    <tr>\n",
       "      <th>14166</th>\n",
       "      <td>Zimbabwe</td>\n",
       "      <td>ZWE</td>\n",
       "      <td>2020</td>\n",
       "      <td>5052214</td>\n",
       "      <td>10617452</td>\n",
       "    </tr>\n",
       "    <tr>\n",
       "      <th>14167</th>\n",
       "      <td>Zimbabwe</td>\n",
       "      <td>ZWE</td>\n",
       "      <td>2021</td>\n",
       "      <td>5166388</td>\n",
       "      <td>10827136</td>\n",
       "    </tr>\n",
       "  </tbody>\n",
       "</table>\n",
       "<p>14168 rows × 5 columns</p>\n",
       "</div>"
      ],
      "text/plain": [
       "           country Code country  Year  Urban population Rural population\n",
       "0      Afghanistan          AFG  1960            724373          7898093\n",
       "1      Afghanistan          AFG  1961            763336          8026804\n",
       "2      Afghanistan          AFG  1962            805062          8163985\n",
       "3      Afghanistan          AFG  1963            849446          8308019\n",
       "4      Afghanistan          AFG  1964            896820          8458694\n",
       "...            ...          ...   ...               ...              ...\n",
       "14163     Zimbabwe          ZWE  2017           4755312          9995789\n",
       "14164     Zimbabwe          ZWE  2018           4848158         10204026\n",
       "14165     Zimbabwe          ZWE  2019           4945719         10408889\n",
       "14166     Zimbabwe          ZWE  2020           5052214         10617452\n",
       "14167     Zimbabwe          ZWE  2021           5166388         10827136\n",
       "\n",
       "[14168 rows x 5 columns]"
      ]
     },
     "execution_count": 11,
     "metadata": {},
     "output_type": "execute_result"
    }
   ],
   "source": [
    "import pandas as pd\n",
    "import numpy as np\n",
    "from sklearn.preprocessing import MinMaxScaler\n",
    "# Load the dataset\n",
    "dataset =pd.read_csv ('C:/Users/thale/Desktop/Piyose/urbanandruralpopulation new.csv')  # Replace with actual path\n",
    "dataset "
   ]
  },
  {
   "cell_type": "code",
   "execution_count": 12,
   "id": "68038843-454e-4e67-bc91-096084744faf",
   "metadata": {},
   "outputs": [
    {
     "name": "stdout",
     "output_type": "stream",
     "text": [
      "Dataset size (rows, columns): (14168, 5)\n"
     ]
    }
   ],
   "source": [
    "#Understand the size\n",
    "print(\"Dataset size (rows, columns):\", dataset.shape)"
   ]
  },
  {
   "cell_type": "code",
   "execution_count": 13,
   "id": "993becad-441e-44af-b6e2-09fe083eba2e",
   "metadata": {},
   "outputs": [
    {
     "name": "stdout",
     "output_type": "stream",
     "text": [
      "\n",
      "Columns in the dataset: Index(['country', 'Code country', 'Year', 'Urban population',\n",
      "       'Rural population'],\n",
      "      dtype='object')\n"
     ]
    }
   ],
   "source": [
    "#columns\n",
    "print(\"\\nColumns in the dataset:\", dataset.columns)"
   ]
  },
  {
   "cell_type": "code",
   "execution_count": 14,
   "id": "3bd2649a-0b4b-476c-b653-1cc23c874ed8",
   "metadata": {},
   "outputs": [
    {
     "name": "stdout",
     "output_type": "stream",
     "text": [
      "\n",
      "Data types of each column:\n",
      " country             object\n",
      "Code country        object\n",
      "Year                 int64\n",
      "Urban population     int64\n",
      "Rural population    object\n",
      "dtype: object\n"
     ]
    }
   ],
   "source": [
    "#datatypes\n",
    "print(\"\\nData types of each column:\\n\", dataset.dtypes)\n"
   ]
  },
  {
   "cell_type": "code",
   "execution_count": 15,
   "id": "a65e5ce1-fe7a-454a-8754-0a50ca5e309c",
   "metadata": {},
   "outputs": [
    {
     "name": "stdout",
     "output_type": "stream",
     "text": [
      "\n",
      "Summary statistics for numerical columns:\n",
      "               Year  Urban population\n",
      "count  14168.000000      1.416800e+04\n",
      "mean    1990.533879      5.097131e+07\n",
      "std       17.895499      2.442102e+08\n",
      "min     1960.000000      8.590000e+02\n",
      "25%     1975.000000      2.385732e+05\n",
      "50%     1991.000000      2.029394e+06\n",
      "75%     2006.000000      8.821502e+06\n",
      "max     2021.000000      4.454153e+09\n"
     ]
    }
   ],
   "source": [
    "#Get basic static for numerical columns\n",
    "print(\"\\nSummary statistics for numerical columns:\")\n",
    "print(dataset.describe())"
   ]
  },
  {
   "cell_type": "code",
   "execution_count": 16,
   "id": "3e1ccb30-e470-49d1-88fa-061bb0f713eb",
   "metadata": {},
   "outputs": [
    {
     "name": "stdout",
     "output_type": "stream",
     "text": [
      "\n",
      "Missing values in each column:\n",
      " country             0\n",
      "Code country        0\n",
      "Year                0\n",
      "Urban population    0\n",
      "Rural population    0\n",
      "dtype: int64\n"
     ]
    }
   ],
   "source": [
    "# Check for missing data\n",
    "missing_data = dataset.isnull().sum()\n",
    "print(\"\\nMissing values in each column:\\n\", missing_data)\n"
   ]
  },
  {
   "cell_type": "code",
   "execution_count": 17,
   "id": "c22176fd-1f74-4d3a-8fd2-ed6f895c4614",
   "metadata": {},
   "outputs": [
    {
     "name": "stdout",
     "output_type": "stream",
     "text": [
      "\n",
      "Slicing data (rows 0-5, columns 'Year', 'Urban population', 'Rural population'):\n",
      "   Year  Urban population Rural population\n",
      "0  1960            724373          7898093\n",
      "1  1961            763336          8026804\n",
      "2  1962            805062          8163985\n",
      "3  1963            849446          8308019\n",
      "4  1964            896820          8458694\n",
      "5  1965            947332          8617815\n"
     ]
    }
   ],
   "source": [
    "# Slice the dataset - Display rows 0 to 5 and columns 'Year', 'Urban population', 'Rural population'\n",
    "print(\"\\nSlicing data (rows 0-5, columns 'Year', 'Urban population', 'Rural population'):\")\n",
    "print(dataset.loc[0:5, ['Year', 'Urban population', 'Rural population']])"
   ]
  },
  {
   "cell_type": "code",
   "execution_count": 22,
   "id": "8dbb3a16-82c5-4eec-adb1-ac427c6cd534",
   "metadata": {},
   "outputs": [
    {
     "name": "stdout",
     "output_type": "stream",
     "text": [
      "\n",
      "Data after cleaning and normalization (first 5 rows):\n",
      "       country Code country  Year  Urban population Rural population\n",
      "0  Afghanistan          AFG  1960            724373          7898093\n",
      "1  Afghanistan          AFG  1961            763336          8026804\n",
      "2  Afghanistan          AFG  1962            805062          8163985\n",
      "3  Afghanistan          AFG  1963            849446          8308019\n",
      "4  Afghanistan          AFG  1964            896820          8458694\n"
     ]
    }
   ],
   "source": [
    "# Step 1: Handling missing data\n",
    "# Filling missing values for numeric columns with their mean\n",
    "numeric_cols = dataset.select_dtypes(include=[np.number]).columns  # Select numeric columns\n",
    "dataset[numeric_cols] = dataset[numeric_cols].fillna(dataset[numeric_cols].mean())\n",
    "\n",
    "# Step 2: For non-numeric columns, fill missing values with mode (most frequent value)\n",
    "non_numeric_cols = dataset.select_dtypes(exclude=[np.number]).columns\n",
    "for col in non_numeric_cols:\n",
    "    mode_value = dataset[col].mode()[0]  # Get the mode (most frequent value)\n",
    "    dataset[col] = dataset[col].fillna(mode_value)  # Assign filled values back to the DataFrame\n",
    "\n",
    "# Step 3: Normalizing 'Urban population' and 'Rural population' using MinMaxScaler\n",
    "# Check if the columns exist and are numeric\n",
    "if 'Urban population' in numeric_cols and 'Rural population' in numeric_cols:\n",
    "    scaler = MinMaxScaler()  # Use Min-Max Scaling to normalize between 0 and 1\n",
    "    dataset[['Urban population', 'Rural population']] = scaler.fit_transform(dataset[['Urban population', 'Rural population']])\n",
    "\n",
    "# Step 4: Checking if the data is now clean and normalized\n",
    "print(\"\\nData after cleaning and normalization (first 5 rows):\")\n",
    "print(dataset.head())"
   ]
  },
  {
   "cell_type": "code",
   "execution_count": 23,
   "id": "89cf6894-aa81-4043-b58f-bd42351c6233",
   "metadata": {},
   "outputs": [],
   "source": [
    "#saving cleaned dataset\n",
    "dataset.to_csv(\"cleaned_dataset,csv\",index=False)"
   ]
  },
  {
   "cell_type": "code",
   "execution_count": null,
   "id": "3abd764c-2446-4c07-ac1e-47ace0aba502",
   "metadata": {},
   "outputs": [],
   "source": []
  }
 ],
 "metadata": {
  "kernelspec": {
   "display_name": "Python 3 (ipykernel)",
   "language": "python",
   "name": "python3"
  },
  "language_info": {
   "codemirror_mode": {
    "name": "ipython",
    "version": 3
   },
   "file_extension": ".py",
   "mimetype": "text/x-python",
   "name": "python",
   "nbconvert_exporter": "python",
   "pygments_lexer": "ipython3",
   "version": "3.12.2"
  }
 },
 "nbformat": 4,
 "nbformat_minor": 5
}
